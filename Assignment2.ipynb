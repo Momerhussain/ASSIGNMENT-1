{
 "cells": [
  {
   "cell_type": "markdown",
   "metadata": {},
   "source": [
    "# ASSIGNMENT 2 TO DO LIST "
   ]
  },
  {
   "cell_type": "code",
   "execution_count": 1,
   "metadata": {},
   "outputs": [],
   "source": [
    "do_list=['Bath','Recite QURAN','Zohor Pray','Take Nap','Asar Pray','Take Iftar','Maghrib Pray','Isha Pray',\"Traweeh\"]"
   ]
  },
  {
   "cell_type": "code",
   "execution_count": 2,
   "metadata": {},
   "outputs": [],
   "source": [
    "done_list=[]"
   ]
  },
  {
   "cell_type": "code",
   "execution_count": 3,
   "metadata": {},
   "outputs": [
    {
     "name": "stdout",
     "output_type": "stream",
     "text": [
      "your task list is:\n",
      "1 :Recite QURAN\n",
      "2 :Zohor Pray\n",
      "3 :Take Nap\n",
      "4 :Asar Pray\n",
      "5 :Take Iftar\n",
      "6 :Maghrib Pray\n",
      "7 :Isha Pray\n",
      "8 :Traweeh\n"
     ]
    }
   ],
   "source": [
    "print(\"your task list is:\")\n",
    "\n",
    "for i in range(1,len(do_list)):\n",
    "    print(i,\":\"+do_list[i])"
   ]
  },
  {
   "cell_type": "code",
   "execution_count": null,
   "metadata": {},
   "outputs": [],
   "source": [
    "while len(do_list)!=0:\n",
    "    a=input(\"You completed your task?? yes/no \").lower()\n",
    "    if a==\"yes\":\n",
    "        if len(do_list)!=0:\n",
    "            \n",
    "            done_list.append(do_list.pop())\n",
    "            print(\"Your remaining task : \",len(do_list))\n",
    "            print(\"Your completed task : \",len(done_list))\n",
    "        if len(do_list)==0:\n",
    "            print(\"your task list is complete\")\n",
    "\n",
    "    elif a==\"no\":\n",
    "        print(\"You need to complete your task\")"
   ]
  }
 ],
 "metadata": {
  "kernelspec": {
   "display_name": "Python 3",
   "language": "python",
   "name": "python3"
  },
  "language_info": {
   "codemirror_mode": {
    "name": "ipython",
    "version": 3
   },
   "file_extension": ".py",
   "mimetype": "text/x-python",
   "name": "python",
   "nbconvert_exporter": "python",
   "pygments_lexer": "ipython3",
   "version": "3.7.3"
  }
 },
 "nbformat": 4,
 "nbformat_minor": 2
}
